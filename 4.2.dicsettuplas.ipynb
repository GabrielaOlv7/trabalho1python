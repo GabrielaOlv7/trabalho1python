#dicionários: estrutura chave/valor
Notas = {'thiago': 5.0, 'julia': 8.0, 'rafael': 7.5}
print(Notas)
{'thiago': 5.0, 'juloa': 8.0, 'rafael': 7.5}
print(Notas['thiago'])
5.0

#Todasd as chaves
Notas.keys()
dict_keys(['thiago', 'julia', 'rafael'])

#todos os valores
Notas.values()
dict_values([5.0, 8.0, 7.5])

#Testa logicamente a existência
print('thiago' in Notas)
print('Fernando' in Notas)
True
False

#apaga um elemento
del Notas['thiago']
print(Notas)
{'julia': 8.0, 'rafael': 7.5}

#inclui um elemento
Notas['bruna'] = 9
print(Notas)
{'julia': 8.0, 'rafael': 7.5, 'bruna': 9}

#busca um valor, se não encontrar mostra segundo parametro
Notas.get('pedro',"Não encontrado!")
'Não encontrado!'

#sets são conjuntos não ordenados de elementos não repetidos
bigdata = {'feliz', 'triste', "legal"}
print(bigdata)
{'feliz', 'triste', 'legal'}

#verifica existência
print('feliz' in bigdata)
True

#adiciona elemento
bigdata.add('com raiva')
bigdata
{'com raiva','feliz', 'triste', 'legal'}

#número de elementos
print(len(bigdata))
4

#tuplas são listas que não podem ser alteradas
#listas usam [], tuplas usam ()
tupla = (1,2,3,4,5,6,7)
tupla
(1, 2, 3, 4, 5, 6, 7)
tupla[4]
5

#dicionários em que cada posição recebe uma tupla
dic2 = {(0, 1): 0, (1, 2): 1, (2, 3): 2, (3, 4): 3, (4, 5): 4,(5, 6): 5, (6, 7): 6, (7, 8): 7, (8, 9): 8, (9, 10): 9}
dic2
{(0, 1): 1,
 (1, 2): 1,
 (2, 3): 2,
 (3, 4): 3,
 (4, 5): 4,
 (5, 6): 5,
 (6, 7): 6,
 (7, 8): 7,
 (8, 9): 8,
 (9, 10): 9}
print(type(Notas))
print(type(bigdata))
print(type(tupla))
<class 'dict'>
<class 'set'>
<class 'tuple'>

